{
 "cells": [
  {
   "cell_type": "code",
   "execution_count": 1,
   "id": "a706ccec",
   "metadata": {},
   "outputs": [],
   "source": [
    "import regex as re\n",
    "import pandas as pd"
   ]
  },
  {
   "cell_type": "markdown",
   "id": "13dde2c8",
   "metadata": {},
   "source": [
    "## Question 1- Write a Python program to replace all occurrences of a space, comma, or dot with a colon.\n",
    "Sample Text- &#39;Python Exercises, PHP exercises.&#39;\n",
    "\n",
    "Expected Output: Python:Exercises::PHP:exercises:"
   ]
  },
  {
   "cell_type": "code",
   "execution_count": 2,
   "id": "153bde48",
   "metadata": {},
   "outputs": [
    {
     "name": "stdout",
     "output_type": "stream",
     "text": [
      "Python:Exercises::PHP:exercises:\n"
     ]
    }
   ],
   "source": [
    "sample_text = \"Python Exercises, PHP exercises.\"\n",
    "\n",
    "pattern = re.compile('[ ,.]')\n",
    "\n",
    "result = pattern.sub(':', sample_text)\n",
    "print(result)"
   ]
  },
  {
   "cell_type": "markdown",
   "id": "2b724044",
   "metadata": {},
   "source": [
    "## Question 2- Create a dataframe using the dictionary below and remove everything (commas (,), !,XXXX, ;, etc.) from the columns except words.\n",
    "\n",
    "Dictionary- {&#39;SUMMARY&#39; : [&#39;hello, world!&#39;, &#39;XXXXX test&#39;, &#39;123four, five:; six...&#39;]}\n",
    "\n",
    "Expected output-\n",
    "\n",
    "0 hello world\n",
    "\n",
    "1 test\n",
    "\n",
    "2 four five six"
   ]
  },
  {
   "cell_type": "code",
   "execution_count": 3,
   "id": "789b20ca",
   "metadata": {},
   "outputs": [
    {
     "data": {
      "text/html": [
       "<div>\n",
       "<style scoped>\n",
       "    .dataframe tbody tr th:only-of-type {\n",
       "        vertical-align: middle;\n",
       "    }\n",
       "\n",
       "    .dataframe tbody tr th {\n",
       "        vertical-align: top;\n",
       "    }\n",
       "\n",
       "    .dataframe thead th {\n",
       "        text-align: right;\n",
       "    }\n",
       "</style>\n",
       "<table border=\"1\" class=\"dataframe\">\n",
       "  <thead>\n",
       "    <tr style=\"text-align: right;\">\n",
       "      <th></th>\n",
       "      <th>SUMMARY</th>\n",
       "    </tr>\n",
       "  </thead>\n",
       "  <tbody>\n",
       "    <tr>\n",
       "      <th>0</th>\n",
       "      <td>hello, world!</td>\n",
       "    </tr>\n",
       "    <tr>\n",
       "      <th>1</th>\n",
       "      <td>XXXXX test</td>\n",
       "    </tr>\n",
       "    <tr>\n",
       "      <th>2</th>\n",
       "      <td>123four, five:; six...</td>\n",
       "    </tr>\n",
       "  </tbody>\n",
       "</table>\n",
       "</div>"
      ],
      "text/plain": [
       "                  SUMMARY\n",
       "0           hello, world!\n",
       "1              XXXXX test\n",
       "2  123four, five:; six..."
      ]
     },
     "execution_count": 3,
     "metadata": {},
     "output_type": "execute_result"
    }
   ],
   "source": [
    "raw_data = {'SUMMARY' : ['hello, world!', 'XXXXX test', '123four, five:; six...']}\n",
    "dataframe = pd.DataFrame(raw_data)\n",
    "dataframe"
   ]
  },
  {
   "cell_type": "code",
   "execution_count": 4,
   "id": "7861f1eb",
   "metadata": {},
   "outputs": [],
   "source": [
    "def clean_text(text):\n",
    "    pattern = re.sub(r'[^a-zA-Z\\s]|XXXXX', ' ', text)\n",
    "    return pattern.strip()"
   ]
  },
  {
   "cell_type": "code",
   "execution_count": 5,
   "id": "05c9478e",
   "metadata": {},
   "outputs": [],
   "source": [
    "dataframe['SUMMARY'] = dataframe['SUMMARY'].apply(clean_text)"
   ]
  },
  {
   "cell_type": "code",
   "execution_count": 6,
   "id": "46eae4d6",
   "metadata": {},
   "outputs": [
    {
     "name": "stdout",
     "output_type": "stream",
     "text": [
      "            SUMMARY\n",
      "0      hello  world\n",
      "1              test\n",
      "2  four  five   six\n"
     ]
    }
   ],
   "source": [
    "print(dataframe)"
   ]
  },
  {
   "cell_type": "markdown",
   "id": "952f86b8",
   "metadata": {},
   "source": [
    "### Question 3- Create a function in python to find all words that are at least 4 characters long in a string. The use of the re.compile() method is mandatory."
   ]
  },
  {
   "cell_type": "code",
   "execution_count": 7,
   "id": "b60af5a8",
   "metadata": {},
   "outputs": [
    {
     "name": "stdout",
     "output_type": "stream",
     "text": [
      "['quick', 'brown', 'jumps', 'over', 'lazy']\n"
     ]
    }
   ],
   "source": [
    "def exact_char(text):\n",
    "    pattern = re.compile(r\"\\b\\w{4,}\\b\")\n",
    "    result = pattern.findall(text)\n",
    "    return result\n",
    "    \n",
    "text = 'The quick brown fox jumps over the lazy dog.'\n",
    "\n",
    "print(exact_char(text))\n"
   ]
  },
  {
   "cell_type": "markdown",
   "id": "4257170d",
   "metadata": {},
   "source": [
    "### Question 4- Create a function in python to find all three, four, and five character words in a string. The use of the re.compile() method is mandatory."
   ]
  },
  {
   "cell_type": "code",
   "execution_count": 8,
   "id": "9155fb03",
   "metadata": {},
   "outputs": [
    {
     "name": "stdout",
     "output_type": "stream",
     "text": [
      "['The', 'quick', 'brown', 'fox', 'jumps', 'over', 'the', 'lazy', 'dog']\n"
     ]
    }
   ],
   "source": [
    "def exact_char(text):\n",
    "    pattern = re.compile(r\"\\b\\w{3,5}\\b\")\n",
    "    result = pattern.findall(text)\n",
    "    return result\n",
    "    \n",
    "text = 'Hi! The quick brown fox jumps over the lazy dog. Understannd?'\n",
    "\n",
    "print(exact_char(text))"
   ]
  },
  {
   "cell_type": "markdown",
   "id": "b6270c39",
   "metadata": {},
   "source": [
    "### Question 5- Create a function in Python to remove the parenthesis in a list of strings. The use of the re.compile() method is mandatory. \n",
    "\n",
    "Sample Text: [\"example (.com)\", \"hr@fliprobo (.com)\", \"github (.com)\", \"Hello (Data Science World)\", \"Data (Scientist)\"] \n",
    "\n",
    "Expected Output: \n",
    "\n",
    "[ example.com, hr@fliprobo.com , github.com , Hello Data Science World , Data Scientist ]"
   ]
  },
  {
   "cell_type": "code",
   "execution_count": 9,
   "id": "3afabfc2",
   "metadata": {},
   "outputs": [
    {
     "name": "stdout",
     "output_type": "stream",
     "text": [
      "['example .com', 'hr@fliprobo .com', 'github .com', 'Hello Data Science World', 'Data Scientist']\n"
     ]
    }
   ],
   "source": [
    "def exact_char(texts):\n",
    "    \n",
    "    pattern = re.compile(r'\\(([^)]*)\\)')\n",
    "\n",
    "    result = [re.sub(pattern, r'\\1', text).strip() for text in texts]\n",
    "\n",
    "    return result\n",
    "\n",
    "sample_text = [\"example (.com)\", \"hr@fliprobo (.com)\", \"github (.com)\", \"Hello (Data Science World)\", \"Data (Scientist)\"]\n",
    "\n",
    "\n",
    "output = exact_char(sample_text)\n",
    "\n",
    "print(output)"
   ]
  },
  {
   "cell_type": "markdown",
   "id": "0b7e5e1a",
   "metadata": {},
   "source": [
    "### Question 6- Write a python program to remove the parenthesis area from the text stored in the text file using Regular Expression. \n",
    "\n",
    "Sample Text: [\"example (.com)\", \"hr@fliprobo (.com)\", \"github (.com)\", \"Hello (Data Science World)\", \"Data (Scientist)\"] \n",
    "\n",
    "Expected Output: [\"example\", \"hr@fliprobo\", \"github\", \"Hello\", \"Data\"] \n",
    "\n",
    "Note- Store given sample text in the text file and then to remove the parenthesis area from the text. \n",
    " "
   ]
  },
  {
   "cell_type": "code",
   "execution_count": 10,
   "id": "0f92ab2d",
   "metadata": {},
   "outputs": [
    {
     "name": "stdout",
     "output_type": "stream",
     "text": [
      "['example', 'hr@fliprobo', 'github', 'Hello', 'Data']\n"
     ]
    }
   ],
   "source": [
    "def exact_char(texts):\n",
    "    \n",
    "    pattern = re.compile(r'\\([^)]*\\)')\n",
    "\n",
    "    \n",
    "    result = [re.sub(pattern, '', text).strip() if '.' not in re.sub(pattern, '', text) else re.sub(pattern, '', text).strip() for text in texts]\n",
    "\n",
    "    return result\n",
    "\n",
    "\n",
    "sample_text = [\"example (.com)\", \"hr@fliprobo (.com)\", \"github (.com)\", \"Hello (Data Science World)\", \"Data (Scientist)\"]\n",
    "\n",
    "\n",
    "output = exact_char(sample_text)\n",
    "\n",
    "print(output)"
   ]
  },
  {
   "cell_type": "markdown",
   "id": "062c358d",
   "metadata": {},
   "source": [
    "### Question 7- Write a regular expression in Python to split a string into uppercase letters. \n",
    "\n",
    "Sample text: “ImportanceOfRegularExpressionsInPython” \n",
    "\n",
    "Expected Output: [‘Importance’, ‘Of’, ‘Regular’, ‘Expression’, ‘In’, ‘Python’] "
   ]
  },
  {
   "cell_type": "code",
   "execution_count": 11,
   "id": "f8923c2b",
   "metadata": {},
   "outputs": [
    {
     "name": "stdout",
     "output_type": "stream",
     "text": [
      "['Importance', 'Of', 'Regular', 'Expressions', 'In', 'Python']\n"
     ]
    }
   ],
   "source": [
    "text = \"ImportanceOfRegularExpressionsInPython\"\n",
    "result = re.findall('[A-Z][^A-Z]*', text)\n",
    "\n",
    "print(result)"
   ]
  },
  {
   "cell_type": "markdown",
   "id": "ca3d583f",
   "metadata": {},
   "source": [
    "\n",
    "### Question 8- Create a function in python to insert spaces between words starting with numbers. \n",
    "\n",
    "Sample Text: “RegularExpression1IsAn2ImportantTopic3InPython\" \n",
    "\n",
    "Expected Output: RegularExpression 1IsAn 2ImportantTopic 3InPython "
   ]
  },
  {
   "cell_type": "code",
   "execution_count": 12,
   "id": "4204a4a6",
   "metadata": {},
   "outputs": [
    {
     "name": "stdout",
     "output_type": "stream",
     "text": [
      "RegularExpression 1IsAn 2ImportantTopic 3InPython\n"
     ]
    }
   ],
   "source": [
    "def exact_char(string):\n",
    "    result = re.sub(r'(\\d)([A-Za-z])', r'\\1 \\2', string)\n",
    "    result = re.sub(r'([A-Za-z])(\\d)', r'\\1 \\2', result)\n",
    "    result = re.sub(r'(\\d)(\\s+)([A-Za-z])', r'\\1\\3', result)\n",
    "    return result\n",
    "\n",
    "text = \"RegularExpression1IsAn2ImportantTopic3InPython\"\n",
    "final_result = exact_char(text)\n",
    "\n",
    "print(final_result)"
   ]
  },
  {
   "cell_type": "markdown",
   "id": "c5eee986",
   "metadata": {},
   "source": [
    "### Question 9- Create a function in python to insert spaces between words starting with capital letters or with numbers. \n",
    "\n",
    "Sample Text: “RegularExpression1IsAn2ImportantTopic3InPython\" \n",
    "\n",
    "Expected Output:  RegularExpression 1 IsAn 2 ImportantTopic 3 InPython "
   ]
  },
  {
   "cell_type": "code",
   "execution_count": 13,
   "id": "0a296cd9",
   "metadata": {},
   "outputs": [
    {
     "name": "stdout",
     "output_type": "stream",
     "text": [
      "RegularExpression 1 IsAn 2 ImportantTopic 3 InPython\n"
     ]
    }
   ],
   "source": [
    "def exact_char(string):\n",
    "    result = re.sub(r'(\\d)([A-Za-z])', r'\\1 \\2', string)\n",
    "    result = re.sub(r'([A-Za-z])(\\d)', r'\\1 \\2', result)\n",
    "    return result\n",
    "\n",
    "text = \"RegularExpression1IsAn2ImportantTopic3InPython\"\n",
    "final_result = exact_char(text)\n",
    "\n",
    "print(final_result)"
   ]
  },
  {
   "cell_type": "markdown",
   "id": "fad125ec",
   "metadata": {},
   "source": [
    "### Question 10- Use the github link below to read the data and create a dataframe. After creating the dataframe extract the first 6 letters of each country and store in the dataframe under a new column called first_five_letters. \n",
    "\n",
    "Github Link-  https://raw.githubusercontent.com/dsrscientist/DSData/master/happiness_score_dataset.csv "
   ]
  },
  {
   "cell_type": "code",
   "execution_count": 14,
   "id": "39be7618",
   "metadata": {},
   "outputs": [
    {
     "data": {
      "text/html": [
       "<div>\n",
       "<style scoped>\n",
       "    .dataframe tbody tr th:only-of-type {\n",
       "        vertical-align: middle;\n",
       "    }\n",
       "\n",
       "    .dataframe tbody tr th {\n",
       "        vertical-align: top;\n",
       "    }\n",
       "\n",
       "    .dataframe thead th {\n",
       "        text-align: right;\n",
       "    }\n",
       "</style>\n",
       "<table border=\"1\" class=\"dataframe\">\n",
       "  <thead>\n",
       "    <tr style=\"text-align: right;\">\n",
       "      <th></th>\n",
       "      <th>Country</th>\n",
       "      <th>Region</th>\n",
       "      <th>Happiness Rank</th>\n",
       "      <th>Happiness Score</th>\n",
       "      <th>Standard Error</th>\n",
       "      <th>Economy (GDP per Capita)</th>\n",
       "      <th>Family</th>\n",
       "      <th>Health (Life Expectancy)</th>\n",
       "      <th>Freedom</th>\n",
       "      <th>Trust (Government Corruption)</th>\n",
       "      <th>Generosity</th>\n",
       "      <th>Dystopia Residual</th>\n",
       "      <th>first_five_letters</th>\n",
       "    </tr>\n",
       "  </thead>\n",
       "  <tbody>\n",
       "    <tr>\n",
       "      <th>0</th>\n",
       "      <td>Switzerland</td>\n",
       "      <td>Western Europe</td>\n",
       "      <td>1</td>\n",
       "      <td>7.587</td>\n",
       "      <td>0.03411</td>\n",
       "      <td>1.39651</td>\n",
       "      <td>1.34951</td>\n",
       "      <td>0.94143</td>\n",
       "      <td>0.66557</td>\n",
       "      <td>0.41978</td>\n",
       "      <td>0.29678</td>\n",
       "      <td>2.51738</td>\n",
       "      <td>Switze</td>\n",
       "    </tr>\n",
       "    <tr>\n",
       "      <th>1</th>\n",
       "      <td>Iceland</td>\n",
       "      <td>Western Europe</td>\n",
       "      <td>2</td>\n",
       "      <td>7.561</td>\n",
       "      <td>0.04884</td>\n",
       "      <td>1.30232</td>\n",
       "      <td>1.40223</td>\n",
       "      <td>0.94784</td>\n",
       "      <td>0.62877</td>\n",
       "      <td>0.14145</td>\n",
       "      <td>0.43630</td>\n",
       "      <td>2.70201</td>\n",
       "      <td>Icelan</td>\n",
       "    </tr>\n",
       "    <tr>\n",
       "      <th>2</th>\n",
       "      <td>Denmark</td>\n",
       "      <td>Western Europe</td>\n",
       "      <td>3</td>\n",
       "      <td>7.527</td>\n",
       "      <td>0.03328</td>\n",
       "      <td>1.32548</td>\n",
       "      <td>1.36058</td>\n",
       "      <td>0.87464</td>\n",
       "      <td>0.64938</td>\n",
       "      <td>0.48357</td>\n",
       "      <td>0.34139</td>\n",
       "      <td>2.49204</td>\n",
       "      <td>Denmar</td>\n",
       "    </tr>\n",
       "    <tr>\n",
       "      <th>3</th>\n",
       "      <td>Norway</td>\n",
       "      <td>Western Europe</td>\n",
       "      <td>4</td>\n",
       "      <td>7.522</td>\n",
       "      <td>0.03880</td>\n",
       "      <td>1.45900</td>\n",
       "      <td>1.33095</td>\n",
       "      <td>0.88521</td>\n",
       "      <td>0.66973</td>\n",
       "      <td>0.36503</td>\n",
       "      <td>0.34699</td>\n",
       "      <td>2.46531</td>\n",
       "      <td>Norway</td>\n",
       "    </tr>\n",
       "    <tr>\n",
       "      <th>4</th>\n",
       "      <td>Canada</td>\n",
       "      <td>North America</td>\n",
       "      <td>5</td>\n",
       "      <td>7.427</td>\n",
       "      <td>0.03553</td>\n",
       "      <td>1.32629</td>\n",
       "      <td>1.32261</td>\n",
       "      <td>0.90563</td>\n",
       "      <td>0.63297</td>\n",
       "      <td>0.32957</td>\n",
       "      <td>0.45811</td>\n",
       "      <td>2.45176</td>\n",
       "      <td>Canada</td>\n",
       "    </tr>\n",
       "  </tbody>\n",
       "</table>\n",
       "</div>"
      ],
      "text/plain": [
       "       Country          Region  Happiness Rank  Happiness Score  \\\n",
       "0  Switzerland  Western Europe               1            7.587   \n",
       "1      Iceland  Western Europe               2            7.561   \n",
       "2      Denmark  Western Europe               3            7.527   \n",
       "3       Norway  Western Europe               4            7.522   \n",
       "4       Canada   North America               5            7.427   \n",
       "\n",
       "   Standard Error  Economy (GDP per Capita)   Family  \\\n",
       "0         0.03411                   1.39651  1.34951   \n",
       "1         0.04884                   1.30232  1.40223   \n",
       "2         0.03328                   1.32548  1.36058   \n",
       "3         0.03880                   1.45900  1.33095   \n",
       "4         0.03553                   1.32629  1.32261   \n",
       "\n",
       "   Health (Life Expectancy)  Freedom  Trust (Government Corruption)  \\\n",
       "0                   0.94143  0.66557                        0.41978   \n",
       "1                   0.94784  0.62877                        0.14145   \n",
       "2                   0.87464  0.64938                        0.48357   \n",
       "3                   0.88521  0.66973                        0.36503   \n",
       "4                   0.90563  0.63297                        0.32957   \n",
       "\n",
       "   Generosity  Dystopia Residual first_five_letters  \n",
       "0     0.29678            2.51738             Switze  \n",
       "1     0.43630            2.70201             Icelan  \n",
       "2     0.34139            2.49204             Denmar  \n",
       "3     0.34699            2.46531             Norway  \n",
       "4     0.45811            2.45176             Canada  "
      ]
     },
     "execution_count": 14,
     "metadata": {},
     "output_type": "execute_result"
    }
   ],
   "source": [
    "git_url = 'https://raw.githubusercontent.com/dsrscientist/DSData/master/happiness_score_dataset.csv'\n",
    "df = pd.read_csv(git_url)\n",
    "\n",
    "df['first_five_letters'] = df['Country'].str[:6]\n",
    "\n",
    "df.head()"
   ]
  },
  {
   "cell_type": "markdown",
   "id": "593d9bf7",
   "metadata": {},
   "source": [
    "### Question 11- Write a Python program to match a string that contains only upper and lowercase letters, numbers, and underscores. "
   ]
  },
  {
   "cell_type": "code",
   "execution_count": 15,
   "id": "c12f0a41",
   "metadata": {},
   "outputs": [
    {
     "name": "stdout",
     "output_type": "stream",
     "text": [
      "The string 'This_is_a_test_string_123' matches the pattern.\n"
     ]
    }
   ],
   "source": [
    "pattern = r'^[\\w]+$'\n",
    "\n",
    "string = 'This_is_a_test_string_123'\n",
    "\n",
    "if re.match(pattern, string):\n",
    "    print(f\"The string '{string}' matches the pattern.\")\n",
    "else:\n",
    "    print(f\"The string '{string}' does not match the pattern.\")"
   ]
  },
  {
   "cell_type": "markdown",
   "id": "566e67ea",
   "metadata": {},
   "source": [
    "### Question 12- Write a Python program where a string will start with a specific number.  "
   ]
  },
  {
   "cell_type": "code",
   "execution_count": 16,
   "id": "ec7ea669",
   "metadata": {},
   "outputs": [
    {
     "name": "stdout",
     "output_type": "stream",
     "text": [
      "True\n"
     ]
    }
   ],
   "source": [
    "text = \"42 is the answer to everything.\"\n",
    "num = 42\n",
    "pattern = r'^' + str(num)\n",
    "\n",
    "if re.match(pattern, text):\n",
    "    print(True)\n",
    "else:\n",
    "    print(False)"
   ]
  },
  {
   "cell_type": "markdown",
   "id": "d4a43444",
   "metadata": {},
   "source": [
    "### Question 13- Write a Python program to remove leading zeros from an IP address "
   ]
  },
  {
   "cell_type": "code",
   "execution_count": 17,
   "id": "4ae46da0",
   "metadata": {},
   "outputs": [
    {
     "name": "stdout",
     "output_type": "stream",
     "text": [
      "Original IP address: 000.168.001.001\n",
      "IP address without leading zeros: 0.168.1.1\n"
     ]
    }
   ],
   "source": [
    "ip = \"000.168.001.001\"\n",
    "ip_without_zeros = re.sub(r'\\b0+(\\d)', r'\\1', ip)\n",
    "\n",
    "print(f'Original IP address: {ip}')\n",
    "print(f'IP address without leading zeros: {ip_without_zeros}')"
   ]
  },
  {
   "cell_type": "markdown",
   "id": "94820c1d",
   "metadata": {},
   "source": [
    "### Question 14- Write a regular expression in python to match a date string in the form of Month name followed by day number and year stored in a text file. \n",
    "\n",
    "Sample text :  ' On August 15th 1947 that India was declared independent from British colonialism, and the reins of control were handed over to the leaders of the Country’. \n",
    "\n",
    "Expected Output- August 15th 1947 \n",
    "\n",
    "Note- Store given sample text in the text file and then extract the date string asked format. "
   ]
  },
  {
   "cell_type": "code",
   "execution_count": 18,
   "id": "12b229da",
   "metadata": {},
   "outputs": [
    {
     "name": "stdout",
     "output_type": "stream",
     "text": [
      "Extracted Date: August 15th 1947\n"
     ]
    }
   ],
   "source": [
    "with open('sample.txt', 'w') as file:\n",
    "    file.write('On August 15th 1947 that India was declared independent from British colonialism, and the reins of control were handed over to the leaders of the Country.')\n",
    "\n",
    "with open('sample.txt', 'r') as file:\n",
    "    read_file = file.read()\n",
    "\n",
    "result = re.search(r'(\\b(?:January|February|March|April|May|June|July|August|September|October|November|December)\\s+\\d{1,2}(?:st|nd|rd|th)?\\s+\\d{4})', read_file)\n",
    "\n",
    "if result:\n",
    "    string = result.group(1)\n",
    "    print(f'Extracted Date: {string}')\n",
    "else:\n",
    "    print('None')\n"
   ]
  },
  {
   "cell_type": "markdown",
   "id": "42e031c9",
   "metadata": {},
   "source": [
    "### Question 15- Write a Python program to search some literals strings in a string.  \n",
    "\n",
    "Sample text : 'The quick brown fox jumps over the lazy dog.' \n",
    "\n",
    "Searched words : 'fox', 'dog', 'horse' "
   ]
  },
  {
   "cell_type": "code",
   "execution_count": 19,
   "id": "82db66c8",
   "metadata": {},
   "outputs": [
    {
     "name": "stdout",
     "output_type": "stream",
     "text": [
      "The word \"fox\" is present in the text.\n",
      "The word \"dog\" is present in the text.\n",
      "The word \"horse\" is not present in the text.\n"
     ]
    }
   ],
   "source": [
    "text = 'The quick brown fox jumps over the lazy dog.'\n",
    "words = ['fox', 'dog', 'horse']\n",
    "\n",
    "for w in words:\n",
    "    if w in text:\n",
    "        print(f'The word \"{w}\" is present in the text.')\n",
    "    else:\n",
    "        print(f'The word \"{w}\" is not present in the text.')"
   ]
  },
  {
   "cell_type": "markdown",
   "id": "967fa23a",
   "metadata": {},
   "source": [
    "### Question 16- Write a Python program to search a literals string in a string and also find the location within the original string where the pattern occurs \n",
    "\n",
    "Sample text : 'The quick brown fox jumps over the lazy dog.' \n",
    "\n",
    "Searched words : 'fox' "
   ]
  },
  {
   "cell_type": "code",
   "execution_count": 20,
   "id": "8c5055d8",
   "metadata": {},
   "outputs": [
    {
     "name": "stdout",
     "output_type": "stream",
     "text": [
      "The word 'fox' was found at position 16.\n"
     ]
    }
   ],
   "source": [
    "sample_text = 'The quick brown fox jumps over the lazy dog.'\n",
    "\n",
    "searched_word = 'fox'\n",
    "\n",
    "position = sample_text.find(searched_word)\n",
    "\n",
    "if position != -1:\n",
    "    print(f\"The word '{searched_word}' was found at position {position}.\")\n",
    "else:\n",
    "    print(f\"The word '{searched_word}' was not found in the sample text.\")"
   ]
  },
  {
   "cell_type": "markdown",
   "id": "7a8283de",
   "metadata": {},
   "source": [
    "### Question 17- Write a Python program to find the substrings within a string. \n",
    "\n",
    "Sample text : 'Python exercises, PHP exercises, C# exercises' \n",
    "\n",
    "Pattern : 'exercises'. "
   ]
  },
  {
   "cell_type": "code",
   "execution_count": 21,
   "id": "3844ce46",
   "metadata": {},
   "outputs": [
    {
     "name": "stdout",
     "output_type": "stream",
     "text": [
      "['exercises', 'exercises', 'exercises']\n"
     ]
    }
   ],
   "source": [
    "sample_text = 'Python exercises, PHP exercises, C# exercises'\n",
    "pattern = r'\\bexercises\\b'\n",
    "\n",
    "substrings = re.findall(pattern, sample_text)\n",
    "\n",
    "print(substrings)"
   ]
  },
  {
   "cell_type": "markdown",
   "id": "85f10794",
   "metadata": {},
   "source": [
    "### Question 18- Write a Python program to find the occurrence and position of the substrings within a string. "
   ]
  },
  {
   "cell_type": "code",
   "execution_count": 22,
   "id": "cf498bdb",
   "metadata": {},
   "outputs": [
    {
     "name": "stdout",
     "output_type": "stream",
     "text": [
      "Found substring \"exercises\" at position 7\n",
      "Found substring \"exercises\" at position 22\n",
      "Found substring \"exercises\" at position 36\n"
     ]
    }
   ],
   "source": [
    "def find_occurrences(text, sub):\n",
    "    matches = re.finditer(sub, text)\n",
    "    for match in matches:\n",
    "        print(f'Found substring \"{sub}\" at position {match.start()}')\n",
    "    return\n",
    "\n",
    "find_occurrences('Python exercises, PHP exercises, C# exercises', 'exercises')"
   ]
  },
  {
   "cell_type": "markdown",
   "id": "5fc0d1cc",
   "metadata": {},
   "source": [
    "### Question 19- Write a Python program to convert a date of yyyy-mm-dd format to dd-mm-yyyy format. "
   ]
  },
  {
   "cell_type": "code",
   "execution_count": 23,
   "id": "ecd8592b",
   "metadata": {},
   "outputs": [
    {
     "name": "stdout",
     "output_type": "stream",
     "text": [
      "01-04-2023\n"
     ]
    }
   ],
   "source": [
    "def convert_date_format(date):\n",
    "    year, month, day = date.split('-')\n",
    "    return f'{day}-{month}-{year}'\n",
    "\n",
    "# Test the function\n",
    "print(convert_date_format('2023-04-01'))"
   ]
  },
  {
   "cell_type": "markdown",
   "id": "f9fc43c7",
   "metadata": {},
   "source": [
    "### Question 20- Create a function in python to find all decimal numbers with a precision of 1 or 2 in a string. The use of the re.compile() method is mandatory. \n",
    "\n",
    "Sample Text: \"01.12 0132.123 2.31875 145.8 3.01 27.25 0.25\" \n",
    "\n",
    "Expected Output: ['01.12', '145.8', '3.01', '27.25', '0.25'] "
   ]
  },
  {
   "cell_type": "code",
   "execution_count": 24,
   "id": "e3d7eb61",
   "metadata": {},
   "outputs": [
    {
     "name": "stdout",
     "output_type": "stream",
     "text": [
      "['01.12', '145.8', '3.01', '27.25', '0.25']\n"
     ]
    }
   ],
   "source": [
    "def exact_char(text):\n",
    "    pattern = re.compile(r'\\b\\d+\\.\\d{1,2}\\b')\n",
    "    result = pattern.findall(text)\n",
    "    return result\n",
    "\n",
    "\n",
    "text = \"01.12 0132.123 2.31875 145.8 3.01 27.25 0.25\"\n",
    "\n",
    "final_result = exact_char(text)\n",
    "print(final_result)"
   ]
  },
  {
   "cell_type": "markdown",
   "id": "eaa5719d",
   "metadata": {},
   "source": [
    "### Question 21- Write a Python program to separate and print the numbers and their position of a given string. "
   ]
  },
  {
   "cell_type": "code",
   "execution_count": 25,
   "id": "0c55d67e",
   "metadata": {},
   "outputs": [
    {
     "name": "stdout",
     "output_type": "stream",
     "text": [
      "[('1234', 14), ('5678', 43)]\n"
     ]
    }
   ],
   "source": [
    "def find_numbers_and_positions(text):\n",
    "\n",
    "    pattern = re.compile(r'\\d+')\n",
    "    matches = pattern.finditer(text)\n",
    "    positions = []\n",
    "    for match in matches:\n",
    "        positions.append(match.start())\n",
    "    numbers = pattern.findall(text)\n",
    "    result = list(zip(numbers, positions))\n",
    "    return result\n",
    "\n",
    "text = \"The number is 1234 and the other number is 5678.\"\n",
    "print(find_numbers_and_positions(text))"
   ]
  },
  {
   "cell_type": "markdown",
   "id": "b12b2e6b",
   "metadata": {},
   "source": [
    "### Question 22- Write a regular expression in python program to extract maximum/largest numeric value from a string. \n",
    "\n",
    "Sample Text:  'My marks in each semester are: 947, 896, 926, 524, 734, 950, 642' \n",
    "\n",
    "Expected Output: 950 "
   ]
  },
  {
   "cell_type": "code",
   "execution_count": 26,
   "id": "9279cd23",
   "metadata": {},
   "outputs": [
    {
     "name": "stdout",
     "output_type": "stream",
     "text": [
      "Maximum numeric value: 950\n"
     ]
    }
   ],
   "source": [
    "sample_text = 'My marks in each semester are: 947, 896, 926, 524, 734, 950, 642'\n",
    "\n",
    "pattern = re.compile(r'\\d+')\n",
    "numbers = pattern.findall(sample_text)\n",
    "max_num = max(numbers, key=int)\n",
    "\n",
    "print(f'Maximum numeric value: {max_num}')"
   ]
  },
  {
   "cell_type": "markdown",
   "id": "b6b4b601",
   "metadata": {},
   "source": [
    "### Question 23- Create a function in python to insert spaces between words starting with capital letters. \n",
    "\n",
    "Sample Text: “RegularExpressionIsAnImportantTopicInPython\" \n",
    "\n",
    "Expected Output: Regular Expression Is An Important Topic In Python "
   ]
  },
  {
   "cell_type": "code",
   "execution_count": 27,
   "id": "93487716",
   "metadata": {},
   "outputs": [
    {
     "name": "stdout",
     "output_type": "stream",
     "text": [
      "Regular Expression Is An Important Topic In Python\n"
     ]
    }
   ],
   "source": [
    "def exact_char(text):\n",
    "    result = re.sub(r'([a-z])([A-Z])', r'\\1 \\2', text)\n",
    "    return result\n",
    "\n",
    "\n",
    "sample_text = \"RegularExpressionIsAnImportantTopicInPython\"\n",
    "\n",
    "output = exact_char(sample_text)\n",
    "print(output)"
   ]
  },
  {
   "cell_type": "markdown",
   "id": "d064d98b",
   "metadata": {},
   "source": [
    "### Question 24- Python regex to find sequences of one upper case letter followed by lower case letters "
   ]
  },
  {
   "cell_type": "code",
   "execution_count": 28,
   "id": "4a41d48d",
   "metadata": {},
   "outputs": [
    {
     "name": "stdout",
     "output_type": "stream",
     "text": [
      "['This', 'Python', 'Regular', 'Expression', 'Example']\n"
     ]
    }
   ],
   "source": [
    "pattern = re.compile(r'[A-Z][a-z]+')\n",
    "\n",
    "text = \"This is a Python Regular Expression Example.\"\n",
    "\n",
    "result = pattern.findall(text)\n",
    "\n",
    "print(result)"
   ]
  },
  {
   "cell_type": "markdown",
   "id": "c462d525",
   "metadata": {},
   "source": [
    "### Question 25- Write a Python program to remove continuous duplicate words from Sentence using Regular Expression. \n",
    "\n",
    "Sample Text: \"Hello hello world world\" \n",
    "\n",
    "Expected Output: Hello hello world "
   ]
  },
  {
   "cell_type": "code",
   "execution_count": 29,
   "id": "6f9a3fec",
   "metadata": {},
   "outputs": [
    {
     "name": "stdout",
     "output_type": "stream",
     "text": [
      "Hello  world\n"
     ]
    }
   ],
   "source": [
    "def exact_char(text):\n",
    "    pattern = re.compile(r'\\b(\\w+)\\s+\\1\\b', re.IGNORECASE)\n",
    "    text = pattern.sub('\\\\1 ', text)\n",
    "    return text.strip()\n",
    "\n",
    "text = \"Hello hello world world\"\n",
    "print(exact_char(text))"
   ]
  },
  {
   "cell_type": "markdown",
   "id": "262bfcbd",
   "metadata": {},
   "source": [
    "### Question 26-  Write a python program using RegEx to accept string ending with alphanumeric character. "
   ]
  },
  {
   "cell_type": "code",
   "execution_count": 30,
   "id": "f4430d55",
   "metadata": {},
   "outputs": [
    {
     "name": "stdout",
     "output_type": "stream",
     "text": [
      "True\n",
      "False\n"
     ]
    }
   ],
   "source": [
    "def exact_char(text):\n",
    "\n",
    "    pattern = re.compile(r'\\b[a-zA-Z0-9]*[a-zA-Z0-9]\\b')\n",
    "    if pattern.fullmatch(text):\n",
    "        return True\n",
    "    else:\n",
    "        return False\n",
    "\n",
    "print(exact_char(\"Hello123\")) # True\n",
    "print(exact_char(\"Hello \")) # False"
   ]
  },
  {
   "cell_type": "markdown",
   "id": "22c34ccd",
   "metadata": {},
   "source": [
    "### Question 27-Write a python program using RegEx to extract the hashtags. \n",
    "\n",
    "Sample Text:  \"\"\"RT @kapil_kausik: #Doltiwal I mean #xyzabc is \"hurt\" by #Demonetization as the same has rendered USELESS <ed><U+00A0><U+00BD><ed><U+00B1><U+0089> \"acquired funds\" No wo\"\"\" \n",
    "\n",
    "Expected Output: ['#Doltiwal', '#xyzabc', '#Demonetization'] "
   ]
  },
  {
   "cell_type": "code",
   "execution_count": 31,
   "id": "c4301d59",
   "metadata": {},
   "outputs": [
    {
     "name": "stdout",
     "output_type": "stream",
     "text": [
      "['#Doltiwal', '#xyzabc', '#Demonetization']\n"
     ]
    }
   ],
   "source": [
    "def exact_char(text):\n",
    "    pattern = re.compile(r'#\\w+')\n",
    "    hashtags = pattern.findall(text)\n",
    "    return hashtags\n",
    "\n",
    "\n",
    "text = \"\"\"RT @kapil_kausik: #Doltiwal I mean #xyzabc is \"hurt\" by #Demonetization as the same has rendered USELESS <ed><U+00A0><U+00BD><ed><U+00B1><U+0089> \"acquired funds\" No wo\"\"\"\n",
    "print(exact_char(text))"
   ]
  },
  {
   "cell_type": "markdown",
   "id": "7c29c8d5",
   "metadata": {},
   "source": [
    "### Question 28- Write a python program using RegEx to remove <U+..> like symbols \n",
    "\n",
    "Check the below sample text, there are strange symbols something of the sort <U+..> all over the place. You need to come up with a general Regex expression that will cover all such symbols. \n",
    "\n",
    "Sample Text: \"@Jags123456 Bharat band on 28??<|ed><U+00A0><U+00BD><|ed><U+00B8><U+0082>Those who  are protesting #demonetization  are all different party leaders\" \n",
    "\n",
    "Expected Output: @Jags123456 Bharat band on 28?? <| ed |> <| ed |>Those who  are protesting #demonetization  are all different party leaders "
   ]
  },
  {
   "cell_type": "code",
   "execution_count": 32,
   "id": "fb80dcd9",
   "metadata": {},
   "outputs": [
    {
     "name": "stdout",
     "output_type": "stream",
     "text": [
      "@Jags123456 Bharat band on 28??<ed><ed>Those who  are protesting #demonetization  are all different party leaders\n"
     ]
    }
   ],
   "source": [
    "text = \"@Jags123456 Bharat band on 28??<ed><U+00A0><U+00BD><ed><U+00B8><U+0082>Those who  are protesting #demonetization  are all different party leaders\"\n",
    "\n",
    "\n",
    "pattern = r\"<U\\+[A-Fa-f0-9]+>\"\n",
    "\n",
    "\n",
    "result = re.sub(pattern, '', text)\n",
    "\n",
    "print(result)"
   ]
  },
  {
   "cell_type": "markdown",
   "id": "a048c1c4",
   "metadata": {},
   "source": [
    "### Question 29- Write a python program to extract dates from the text stored in the text file. \n",
    "\n",
    "Sample Text: Ron was born on 12-09-1992 and he was admitted to school 15-12-1999. \n",
    "\n",
    "Note- Store this sample text in the file and then extract dates. "
   ]
  },
  {
   "cell_type": "code",
   "execution_count": 33,
   "id": "5fccb804",
   "metadata": {},
   "outputs": [
    {
     "name": "stdout",
     "output_type": "stream",
     "text": [
      "['12-09-1992', '15-12-1999']\n"
     ]
    }
   ],
   "source": [
    "with open(\"sample_text.txt\", 'r') as file:\n",
    "    text = file.read()\n",
    "\n",
    "pattern = r'(\\d{2}-\\d{2}-\\d{4})'\n",
    "result = re.findall(pattern, text)\n",
    "\n",
    "\n",
    "print(result)"
   ]
  },
  {
   "cell_type": "markdown",
   "id": "c0e06211",
   "metadata": {},
   "source": [
    "### Question 30- Create a function in python to remove all words from a string of length between 2 and 4. The use of the re.compile() method is mandatory. \n",
    "\n",
    "Sample Text: \"The following example creates an ArrayList with a capacity of 50 elements. 4 elements are then added to the ArrayList and the ArrayList is trimmed accordingly.\" \n",
    "\n",
    "Expected Output:  following example creates ArrayList a capacity elements. 4 elements added ArrayList ArrayList trimmed accordingly. "
   ]
  },
  {
   "cell_type": "code",
   "execution_count": 34,
   "id": "f010f28c",
   "metadata": {},
   "outputs": [
    {
     "name": "stdout",
     "output_type": "stream",
     "text": [
      " following example creates  ArrayList  a capacity   elements. 4 elements   added   ArrayList   ArrayList  trimmed accordingly.\n"
     ]
    }
   ],
   "source": [
    "def remove_words(text):\n",
    "\n",
    "    pattern = re.compile(r'\\b\\w{2,4}\\b')\n",
    "\n",
    "    filtered_text = pattern.sub('', text)\n",
    "\n",
    "    return filtered_text\n",
    "\n",
    "\n",
    "\n",
    "text = \"The following example creates an ArrayList with a capacity of 50 elements. 4 elements are then added to the ArrayList and the ArrayList is trimmed accordingly.\"\n",
    "\n",
    "result = remove_words(text)\n",
    "\n",
    "print(result)"
   ]
  }
 ],
 "metadata": {
  "kernelspec": {
   "display_name": "Python 3 (ipykernel)",
   "language": "python",
   "name": "python3"
  },
  "language_info": {
   "codemirror_mode": {
    "name": "ipython",
    "version": 3
   },
   "file_extension": ".py",
   "mimetype": "text/x-python",
   "name": "python",
   "nbconvert_exporter": "python",
   "pygments_lexer": "ipython3",
   "version": "3.11.5"
  }
 },
 "nbformat": 4,
 "nbformat_minor": 5
}
