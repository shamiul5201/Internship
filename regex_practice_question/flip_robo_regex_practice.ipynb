{
 "cells": [
  {
   "cell_type": "code",
   "execution_count": 1,
   "id": "9943650d",
   "metadata": {},
   "outputs": [],
   "source": [
    "import regex as re\n",
    "import pandas as pd\n",
    "import numpy as np"
   ]
  },
  {
   "cell_type": "markdown",
   "id": "5490e1ed",
   "metadata": {},
   "source": [
    "### Question 1- Write a RegEx pattern in python program to check that a string contains only a certain set of characters (in this case a-z, A-Z and 0-9). "
   ]
  },
  {
   "cell_type": "code",
   "execution_count": 6,
   "id": "fb26df61",
   "metadata": {},
   "outputs": [
    {
     "name": "stdout",
     "output_type": "stream",
     "text": [
      "The string 'abc123' is valid.\n"
     ]
    }
   ],
   "source": [
    "def is_valid_string(input_string):\n",
    "    pattern = re.compile(\"[a-zA-Z0-9]+$\")\n",
    "    return bool(pattern.match(input_string))\n",
    "\n",
    "test_string = \"abc123\"\n",
    "\n",
    "if is_valid_string(test_string):\n",
    "    print(f\"The string '{test_string}' is valid.\")\n",
    "else:\n",
    "    print(f\"The string '{test_string}' is not valid.\")\n"
   ]
  },
  {
   "cell_type": "markdown",
   "id": "fa519d14",
   "metadata": {},
   "source": [
    "### Question 2- Write a RegEx pattern that matches a string that has an a followed by zero or more b's "
   ]
  },
  {
   "cell_type": "code",
   "execution_count": 13,
   "id": "c994f5b0",
   "metadata": {
    "scrolled": true
   },
   "outputs": [
    {
     "name": "stdout",
     "output_type": "stream",
     "text": [
      "True\n",
      "False\n",
      "True\n",
      "False\n"
     ]
    }
   ],
   "source": [
    "import re\n",
    "\n",
    "pattern = re.compile(r\"^a(b*)$\")\n",
    "\n",
    "\n",
    "test_string1 = \"ab\"\n",
    "test_string2 = \"xbb\"\n",
    "test_string3 = \"a\"\n",
    "test_string4 = \"ac\"\n",
    "\n",
    "print(bool(pattern.match(test_string1)))  # True\n",
    "print(bool(pattern.match(test_string2)))  # True\n",
    "print(bool(pattern.match(test_string3)))  # True\n",
    "print(bool(pattern.match(test_string4)))  # False\n"
   ]
  },
  {
   "cell_type": "code",
   "execution_count": 15,
   "id": "d71cf56c",
   "metadata": {},
   "outputs": [
    {
     "name": "stdout",
     "output_type": "stream",
     "text": [
      "Not matched!\n",
      "Not matched!\n",
      "Found a match!\n",
      "Found a match!\n",
      "Found a match!\n"
     ]
    }
   ],
   "source": [
    "def text_match(text):\n",
    "        patterns = '^a(b*)$'\n",
    "        \n",
    "        if re.search(patterns,  text):\n",
    "                return 'Found a match!'\n",
    "        else:\n",
    "                return('Not matched!')\n",
    "            \n",
    "print(text_match(\"ac\"))\n",
    "print(text_match(\"abc\"))\n",
    "print(text_match(\"a\"))\n",
    "print(text_match(\"ab\"))\n",
    "print(text_match(\"abb\"))\n"
   ]
  },
  {
   "cell_type": "markdown",
   "id": "917f00e9",
   "metadata": {},
   "source": [
    "### Question 3-  Write a RegEx pattern that matches a string that has an a followed by one or more b's "
   ]
  },
  {
   "cell_type": "code",
   "execution_count": 20,
   "id": "a5266250",
   "metadata": {},
   "outputs": [
    {
     "name": "stdout",
     "output_type": "stream",
     "text": [
      "Not matched!\n",
      "Found a match!\n",
      "Not matched!\n",
      "Found a match!\n",
      "Found a match!\n"
     ]
    }
   ],
   "source": [
    "def text_match(text):\n",
    "        patterns = '^ab+?'\n",
    "        \n",
    "        if re.search(patterns,  text):\n",
    "                return 'Found a match!'\n",
    "        else:\n",
    "                return('Not matched!')\n",
    "            \n",
    "print(text_match(\"ac\"))\n",
    "print(text_match(\"abc\"))\n",
    "print(text_match(\"a\"))\n",
    "print(text_match(\"ab\"))\n",
    "print(text_match(\"abb\"))"
   ]
  },
  {
   "cell_type": "markdown",
   "id": "237e65f8",
   "metadata": {},
   "source": [
    "### Question 4- Write a RegEx pattern that matches a string that has an a followed by zero or one 'b'. "
   ]
  },
  {
   "cell_type": "code",
   "execution_count": 21,
   "id": "1a35602e",
   "metadata": {},
   "outputs": [
    {
     "name": "stdout",
     "output_type": "stream",
     "text": [
      "Found a match!\n",
      "Found a match!\n",
      "Found a match!\n",
      "Found a match!\n"
     ]
    }
   ],
   "source": [
    "def text_match(text):\n",
    "        patterns = 'ab?'\n",
    "        if re.search(patterns,  text):\n",
    "                return 'Found a match!'\n",
    "        else:\n",
    "                return('Not matched!')\n",
    "\n",
    "print(text_match(\"ab\"))\n",
    "print(text_match(\"abc\"))\n",
    "print(text_match(\"abbc\"))\n",
    "print(text_match(\"aabbc\"))\n"
   ]
  },
  {
   "cell_type": "markdown",
   "id": "547e5478",
   "metadata": {},
   "source": [
    "### Question 5- Write a RegEx pattern in python program that matches a string that has an a followed by three 'b'. "
   ]
  },
  {
   "cell_type": "code",
   "execution_count": 25,
   "id": "1deb3c5e",
   "metadata": {},
   "outputs": [
    {
     "name": "stdout",
     "output_type": "stream",
     "text": [
      "Found a match!\n",
      "Not matched!\n",
      "Found a match!\n",
      "Not matched!\n"
     ]
    }
   ],
   "source": [
    "def text_match(text):\n",
    "        patterns = 'ab{3}'\n",
    "        \n",
    "        if re.search(patterns,  text):\n",
    "                return 'Found a match!'\n",
    "        else:\n",
    "                return('Not matched!')\n",
    "\n",
    "print(text_match(\"abbbbb\"))\n",
    "print(text_match(\"abc\"))\n",
    "print(text_match(\"abbbc\"))\n",
    "print(text_match(\"aabbc\"))\n"
   ]
  },
  {
   "cell_type": "markdown",
   "id": "f4ab45ea",
   "metadata": {},
   "source": [
    "### Question 6- Write a RegEx pattern in python program that matches a string that has an a followed by two to three 'b'. "
   ]
  },
  {
   "cell_type": "code",
   "execution_count": 27,
   "id": "2f82c89b",
   "metadata": {},
   "outputs": [
    {
     "name": "stdout",
     "output_type": "stream",
     "text": [
      "Found a match!\n",
      "Not matched!\n",
      "Found a match!\n",
      "Found a match!\n"
     ]
    }
   ],
   "source": [
    "def text_match(text):\n",
    "        patterns = 'a(b{2,3})'\n",
    "        \n",
    "        if re.search(patterns,  text):\n",
    "                return 'Found a match!'\n",
    "        else:\n",
    "                return('Not matched!')\n",
    "\n",
    "print(text_match(\"abbbbb\"))\n",
    "print(text_match(\"abc\"))\n",
    "print(text_match(\"abbbc\"))\n",
    "print(text_match(\"aabbc\"))\n"
   ]
  },
  {
   "cell_type": "markdown",
   "id": "e16b1c56",
   "metadata": {},
   "source": [
    "### Question 7- Write a Python program that matches a string that has an 'a' followed by anything, ending in 'b'. "
   ]
  },
  {
   "cell_type": "code",
   "execution_count": 29,
   "id": "dee6090d",
   "metadata": {},
   "outputs": [
    {
     "name": "stdout",
     "output_type": "stream",
     "text": [
      "Found a match!\n",
      "Not matched!\n",
      "Not matched!\n",
      "Not matched!\n"
     ]
    }
   ],
   "source": [
    "def text_match(text):\n",
    "        patterns = 'a.*?b$'\n",
    "        \n",
    "        if re.search(patterns,  text):\n",
    "                return 'Found a match!'\n",
    "        else:\n",
    "                return('Not matched!')\n",
    "\n",
    "print(text_match(\"abbbbb\"))\n",
    "print(text_match(\"abc\"))\n",
    "print(text_match(\"abbbc\"))\n",
    "print(text_match(\"aabbc\"))"
   ]
  },
  {
   "cell_type": "markdown",
   "id": "d7cacd04",
   "metadata": {},
   "source": [
    "### Question 8- Write a RegEx pattern in python program that matches a word at the beginning of a string"
   ]
  },
  {
   "cell_type": "code",
   "execution_count": 30,
   "id": "f2b1e379",
   "metadata": {},
   "outputs": [
    {
     "name": "stdout",
     "output_type": "stream",
     "text": [
      "Found a match!\n",
      "Not matched!\n"
     ]
    }
   ],
   "source": [
    "def text_match(text):\n",
    "        patterns = '^\\w+'\n",
    "        \n",
    "        if re.search(patterns,  text):\n",
    "                return 'Found a match!'\n",
    "        else:\n",
    "                return('Not matched!')\n",
    "\n",
    "print(text_match(\"The quick brown fox jumps over the lazy dog.\"))\n",
    "print(text_match(\" The quick brown fox jumps over the lazy dog.\"))\n"
   ]
  },
  {
   "cell_type": "markdown",
   "id": "95c73d72",
   "metadata": {},
   "source": [
    "### Question 9- Write a RegEx pattern in python program that matches a word at the end of a string. "
   ]
  },
  {
   "cell_type": "code",
   "execution_count": 37,
   "id": "4d5a9bb5",
   "metadata": {},
   "outputs": [
    {
     "name": "stdout",
     "output_type": "stream",
     "text": [
      "Found a match!\n",
      "Not matched!\n"
     ]
    }
   ],
   "source": [
    "def text_match(text):\n",
    "        patterns = '\\w+\\S*$'\n",
    "        \n",
    "        if re.search(patterns,  text):\n",
    "                return 'Found a match!'\n",
    "        else:\n",
    "                return('Not matched!')\n",
    "\n",
    "print(text_match(\"The quick brown fox jumps over the lazy dog.\"))\n",
    "print(text_match(\"The quick brown fox jumps over the lazy dog. \"))"
   ]
  },
  {
   "cell_type": "markdown",
   "id": "65c89196",
   "metadata": {},
   "source": [
    "### 10- Write a RegEx pattern in python program to find all words that are 4 digits long in a string. \n",
    "\n",
    "Sample text- '01 0132 231875 1458 301 2725.' \n",
    "\n",
    "Expected output- ['0132', '1458', '2725'] "
   ]
  },
  {
   "cell_type": "code",
   "execution_count": 38,
   "id": "424f32d4",
   "metadata": {},
   "outputs": [
    {
     "name": "stdout",
     "output_type": "stream",
     "text": [
      "Four-digit words in the text: ['0132', '1458', '2725']\n"
     ]
    }
   ],
   "source": [
    "def find_four_digit_words(input_string):\n",
    "    pattern = re.compile(r'\\b\\d{4}\\b')\n",
    "    return pattern.findall(input_string)\n",
    "\n",
    "# Example usage:\n",
    "sample_text = '01 0132 231875 1458 301 2725.'\n",
    "result = find_four_digit_words(sample_text)\n",
    "print(f\"Four-digit words in the text: {result}\")\n"
   ]
  },
  {
   "cell_type": "code",
   "execution_count": 39,
   "id": "83940689",
   "metadata": {},
   "outputs": [
    {
     "name": "stdout",
     "output_type": "stream",
     "text": [
      "['quick', 'brown', 'jumps', 'over', 'lazy']\n"
     ]
    }
   ],
   "source": [
    "text = 'The quick brown fox jumps over the lazy dog.'\n",
    "print(re.findall(r\"\\b\\w{4,}\\b\", text))\n"
   ]
  }
 ],
 "metadata": {
  "kernelspec": {
   "display_name": "Python 3 (ipykernel)",
   "language": "python",
   "name": "python3"
  },
  "language_info": {
   "codemirror_mode": {
    "name": "ipython",
    "version": 3
   },
   "file_extension": ".py",
   "mimetype": "text/x-python",
   "name": "python",
   "nbconvert_exporter": "python",
   "pygments_lexer": "ipython3",
   "version": "3.11.5"
  }
 },
 "nbformat": 4,
 "nbformat_minor": 5
}
