{
 "cells": [
  {
   "cell_type": "markdown",
   "id": "ed1c1f3f-eac0-441a-9441-341749d836d3",
   "metadata": {},
   "source": [
    "### Importing libraries"
   ]
  },
  {
   "cell_type": "code",
   "execution_count": 1,
   "id": "b0c5ef95-cf54-441a-8ca5-8c7e3c276f0b",
   "metadata": {},
   "outputs": [],
   "source": [
    "import selenium\n",
    "from selenium import webdriver\n",
    "import pandas as pd\n",
    "import warnings\n",
    "warnings.filterwarnings('ignore')\n",
    "from selenium.webdriver.common.by import By\n",
    "from selenium.webdriver.chrome.options import Options\n",
    "from selenium.webdriver.common.keys import Keys\n",
    "import time"
   ]
  },
  {
   "cell_type": "markdown",
   "id": "1fa64b97-70b9-4644-9cc2-2dc03849952e",
   "metadata": {},
   "source": [
    "### question 1 \n",
    "'https://www.shine.com/'"
   ]
  },
  {
   "cell_type": "code",
   "execution_count": 7,
   "id": "b2d5fa4b-cb07-4dba-90c2-c6d23e0a1b76",
   "metadata": {},
   "outputs": [],
   "source": [
    "driver = webdriver.Chrome()\n",
    "driver.get('https://www.shine.com/')"
   ]
  },
  {
   "cell_type": "code",
   "execution_count": 9,
   "id": "7246e517-4c99-4aad-a5f0-e0edbf3b4714",
   "metadata": {},
   "outputs": [],
   "source": [
    "designation =driver.find_element(By.XPATH, \"/html/body/div/div[4]/div/div[2]/div[2]/div/form/div/div[1]/ul/li[1]/div/input\")\n",
    "# designation.send_keys('Data' + ' ' + 'Analyst')\n",
    "driver.execute_script(\"arguments[0].value = 'Data Analyst';\", designation)"
   ]
  },
  {
   "cell_type": "code",
   "execution_count": 11,
   "id": "98482b6a-9651-4590-9918-40ab3d294d03",
   "metadata": {},
   "outputs": [],
   "source": [
    "location = driver.find_element(By.XPATH, '/html/body/div/div[4]/div/div[2]/div[2]/div[1]/form/div/div[1]/ul/li[2]/div/input ')\n",
    "location.send_keys('Bangalore')"
   ]
  },
  {
   "cell_type": "code",
   "execution_count": 12,
   "id": "347091b6-4a16-42aa-a79f-8ed0e1b00da3",
   "metadata": {},
   "outputs": [],
   "source": [
    "search = driver.find_element(By.XPATH, \"/html/body/div/div[4]/div/div[2]/div[2]/div/form/div/div[2]/div/button\")\n",
    "search.click() "
   ]
  },
  {
   "cell_type": "code",
   "execution_count": 13,
   "id": "86bd1905-4a60-4b2b-8239-3f7d51471525",
   "metadata": {},
   "outputs": [
    {
     "data": {
      "text/plain": [
       "['Data Analyst',\n",
       " 'Clinical Data Analyst',\n",
       " 'Data Analyst',\n",
       " 'Hiring For Data Analyst',\n",
       " 'Lead Data Analyst',\n",
       " 'Data Analyst',\n",
       " 'Technical Data Architect',\n",
       " 'Data Science Architect',\n",
       " 'Data Engineer',\n",
       " 'Clinical Data Associate']"
      ]
     },
     "execution_count": 13,
     "metadata": {},
     "output_type": "execute_result"
    }
   ],
   "source": [
    "counter = 0\n",
    "job_title = []\n",
    "title_tags = driver.find_elements(By.XPATH, '//div[@itemprop = \"itemListElement\"]//h2/a')\n",
    "for i in title_tags:\n",
    "    if counter == 10:\n",
    "        break\n",
    "    title = i.text\n",
    "    job_title.append(title)\n",
    "    counter += 1\n",
    "job_title"
   ]
  },
  {
   "cell_type": "code",
   "execution_count": 14,
   "id": "f47d6508-f6eb-4928-af8c-3bc9475b0573",
   "metadata": {},
   "outputs": [
    {
     "data": {
      "text/plain": [
       "['Bangalore',\n",
       " 'Bangalore',\n",
       " 'Bangalore',\n",
       " 'Bangalore',\n",
       " 'Bangalore',\n",
       " 'Bangalore',\n",
       " 'Bangalore',\n",
       " 'Bangalore',\n",
       " 'Bangalore',\n",
       " 'Bangalore']"
      ]
     },
     "execution_count": 14,
     "metadata": {},
     "output_type": "execute_result"
    }
   ],
   "source": [
    "counter = 0\n",
    "location_name = []\n",
    "location_tags = driver.find_elements(By.XPATH, '//div[@class = \" jobCard_jobCard_lists_item__YxRkV jobCard_locationIcon__zrWt2\"]')\n",
    "for i in location_tags:\n",
    "    if counter == 10:\n",
    "        break\n",
    "    location = i.text.split('\\n')[0]\n",
    "    location_name.append(location)\n",
    "    counter += 1\n",
    "location_name"
   ]
  },
  {
   "cell_type": "code",
   "execution_count": 15,
   "id": "15f5a666-dbf1-4dc8-8108-2343a9196aa9",
   "metadata": {},
   "outputs": [
    {
     "data": {
      "text/plain": [
       "['sahast sales corporation',\n",
       " 'techno endura',\n",
       " 'sahast sales corporation',\n",
       " 'radhika enterprises',\n",
       " 'ara resources private limited',\n",
       " 'diraa hr services hiring for mncs',\n",
       " 'uprighthc solutions private limited',\n",
       " 'symphoni hr pvt. ltd.',\n",
       " 'spm hr solutions',\n",
       " 'techno endura']"
      ]
     },
     "execution_count": 15,
     "metadata": {},
     "output_type": "execute_result"
    }
   ],
   "source": [
    "counter = 0\n",
    "company_name = []\n",
    "company_tags = driver.find_elements(By.XPATH, '//div[@class = \"jobCard_jobCard_cName__mYnow\"]')\n",
    "for i in company_tags:\n",
    "    if counter == 10:\n",
    "        break\n",
    "    company = i.text\n",
    "    company_name.append(company)\n",
    "    counter += 1\n",
    "company_name"
   ]
  },
  {
   "cell_type": "code",
   "execution_count": 16,
   "id": "478c4042-522d-49eb-b0c9-6502dd938590",
   "metadata": {},
   "outputs": [
    {
     "data": {
      "text/plain": [
       "['12 to 22 Yrs',\n",
       " '0 to 1 Yr',\n",
       " '12 to 22 Yrs',\n",
       " '0 to 4 Yrs',\n",
       " '4 to 9 Yrs',\n",
       " '0 to 1 Yr',\n",
       " '10 to 20 Yrs',\n",
       " '8 to 10 Yrs',\n",
       " '4 to 6 Yrs',\n",
       " '0 to 1 Yr']"
      ]
     },
     "execution_count": 16,
     "metadata": {},
     "output_type": "execute_result"
    }
   ],
   "source": [
    "counter = 0\n",
    "experience = []\n",
    "experience_tags = driver.find_elements(By.XPATH, '//div[@class = \" jobCard_jobCard_lists_item__YxRkV jobCard_jobIcon__3FB1t\"]')\n",
    "for i in experience_tags:\n",
    "    if counter == 10:\n",
    "        break\n",
    "    e = i.text\n",
    "    experience.append(e)\n",
    "    counter += 1\n",
    "experience"
   ]
  },
  {
   "cell_type": "code",
   "execution_count": 17,
   "id": "4a34dd08-91f8-4414-8318-96caa09dc00e",
   "metadata": {},
   "outputs": [],
   "source": [
    "driver.quit()"
   ]
  },
  {
   "cell_type": "markdown",
   "id": "d0b115d6-0a1d-4a6b-9f74-241ebb5eef67",
   "metadata": {},
   "source": [
    "### Dataframe"
   ]
  },
  {
   "cell_type": "code",
   "execution_count": 18,
   "id": "3a96dbdb-9c90-45e6-b65f-4faa3ff3a2d2",
   "metadata": {},
   "outputs": [
    {
     "data": {
      "text/html": [
       "<div>\n",
       "<style scoped>\n",
       "    .dataframe tbody tr th:only-of-type {\n",
       "        vertical-align: middle;\n",
       "    }\n",
       "\n",
       "    .dataframe tbody tr th {\n",
       "        vertical-align: top;\n",
       "    }\n",
       "\n",
       "    .dataframe thead th {\n",
       "        text-align: right;\n",
       "    }\n",
       "</style>\n",
       "<table border=\"1\" class=\"dataframe\">\n",
       "  <thead>\n",
       "    <tr style=\"text-align: right;\">\n",
       "      <th></th>\n",
       "      <th>Job_title</th>\n",
       "      <th>location</th>\n",
       "      <th>company_name</th>\n",
       "      <th>experience</th>\n",
       "    </tr>\n",
       "  </thead>\n",
       "  <tbody>\n",
       "    <tr>\n",
       "      <th>0</th>\n",
       "      <td>Data Analyst</td>\n",
       "      <td>Bangalore</td>\n",
       "      <td>sahast sales corporation</td>\n",
       "      <td>12 to 22 Yrs</td>\n",
       "    </tr>\n",
       "    <tr>\n",
       "      <th>1</th>\n",
       "      <td>Clinical Data Analyst</td>\n",
       "      <td>Bangalore</td>\n",
       "      <td>techno endura</td>\n",
       "      <td>0 to 1 Yr</td>\n",
       "    </tr>\n",
       "    <tr>\n",
       "      <th>2</th>\n",
       "      <td>Data Analyst</td>\n",
       "      <td>Bangalore</td>\n",
       "      <td>sahast sales corporation</td>\n",
       "      <td>12 to 22 Yrs</td>\n",
       "    </tr>\n",
       "    <tr>\n",
       "      <th>3</th>\n",
       "      <td>Hiring For Data Analyst</td>\n",
       "      <td>Bangalore</td>\n",
       "      <td>radhika enterprises</td>\n",
       "      <td>0 to 4 Yrs</td>\n",
       "    </tr>\n",
       "    <tr>\n",
       "      <th>4</th>\n",
       "      <td>Lead Data Analyst</td>\n",
       "      <td>Bangalore</td>\n",
       "      <td>ara resources private limited</td>\n",
       "      <td>4 to 9 Yrs</td>\n",
       "    </tr>\n",
       "    <tr>\n",
       "      <th>5</th>\n",
       "      <td>Data Analyst</td>\n",
       "      <td>Bangalore</td>\n",
       "      <td>diraa hr services hiring for mncs</td>\n",
       "      <td>0 to 1 Yr</td>\n",
       "    </tr>\n",
       "    <tr>\n",
       "      <th>6</th>\n",
       "      <td>Technical Data Architect</td>\n",
       "      <td>Bangalore</td>\n",
       "      <td>uprighthc solutions private limited</td>\n",
       "      <td>10 to 20 Yrs</td>\n",
       "    </tr>\n",
       "    <tr>\n",
       "      <th>7</th>\n",
       "      <td>Data Science Architect</td>\n",
       "      <td>Bangalore</td>\n",
       "      <td>symphoni hr pvt. ltd.</td>\n",
       "      <td>8 to 10 Yrs</td>\n",
       "    </tr>\n",
       "    <tr>\n",
       "      <th>8</th>\n",
       "      <td>Data Engineer</td>\n",
       "      <td>Bangalore</td>\n",
       "      <td>spm hr solutions</td>\n",
       "      <td>4 to 6 Yrs</td>\n",
       "    </tr>\n",
       "    <tr>\n",
       "      <th>9</th>\n",
       "      <td>Clinical Data Associate</td>\n",
       "      <td>Bangalore</td>\n",
       "      <td>techno endura</td>\n",
       "      <td>0 to 1 Yr</td>\n",
       "    </tr>\n",
       "  </tbody>\n",
       "</table>\n",
       "</div>"
      ],
      "text/plain": [
       "                  Job_title   location                         company_name  \\\n",
       "0              Data Analyst  Bangalore             sahast sales corporation   \n",
       "1     Clinical Data Analyst  Bangalore                        techno endura   \n",
       "2              Data Analyst  Bangalore             sahast sales corporation   \n",
       "3   Hiring For Data Analyst  Bangalore                  radhika enterprises   \n",
       "4         Lead Data Analyst  Bangalore        ara resources private limited   \n",
       "5              Data Analyst  Bangalore    diraa hr services hiring for mncs   \n",
       "6  Technical Data Architect  Bangalore  uprighthc solutions private limited   \n",
       "7    Data Science Architect  Bangalore                symphoni hr pvt. ltd.   \n",
       "8             Data Engineer  Bangalore                     spm hr solutions   \n",
       "9   Clinical Data Associate  Bangalore                        techno endura   \n",
       "\n",
       "     experience  \n",
       "0  12 to 22 Yrs  \n",
       "1     0 to 1 Yr  \n",
       "2  12 to 22 Yrs  \n",
       "3    0 to 4 Yrs  \n",
       "4    4 to 9 Yrs  \n",
       "5     0 to 1 Yr  \n",
       "6  10 to 20 Yrs  \n",
       "7   8 to 10 Yrs  \n",
       "8    4 to 6 Yrs  \n",
       "9     0 to 1 Yr  "
      ]
     },
     "execution_count": 18,
     "metadata": {},
     "output_type": "execute_result"
    }
   ],
   "source": [
    "df = pd.DataFrame({'Job_title': job_title, 'location':location_name, 'company_name':company_name, 'experience':experience})\n",
    "df"
   ]
  },
  {
   "cell_type": "markdown",
   "id": "2e1de8ab-0acc-475c-99ab-c1a188e8e368",
   "metadata": {},
   "source": [
    "# Question 2\n",
    "https://www.naukri.com/"
   ]
  },
  {
   "cell_type": "code",
   "execution_count": 2,
   "id": "f0bd18c8-db63-41bd-afa3-c91abf3e141f",
   "metadata": {},
   "outputs": [],
   "source": [
    "driver = webdriver.Chrome()\n",
    "driver.get('https://www.naukri.com/')"
   ]
  },
  {
   "cell_type": "code",
   "execution_count": 3,
   "id": "991a31f4-abef-4378-9f02-bccd0f454f25",
   "metadata": {},
   "outputs": [],
   "source": [
    "designation =driver.find_element(By.CLASS_NAME, \"suggestor-input \")\n",
    "designation.send_keys('Data Analyst')\n",
    "# driver.execute_script(\"arguments[0].value = 'Data Scientist';\", designation)"
   ]
  },
  {
   "cell_type": "code",
   "execution_count": 4,
   "id": "f084fa83-4351-4082-9393-802cc8358d5f",
   "metadata": {},
   "outputs": [],
   "source": [
    "location = driver.find_element(By.XPATH, '/html/body/div/div[7]/div/div/div[5]/div/div/div/div[1]/div/input')\n",
    "location.send_keys('Bangalore')"
   ]
  },
  {
   "cell_type": "code",
   "execution_count": 5,
   "id": "125c35df-047e-402c-94b6-b03a8bfb331d",
   "metadata": {},
   "outputs": [],
   "source": [
    "search = driver.find_element(By.CLASS_NAME, \"qsbSubmit\")\n",
    "search.click()"
   ]
  },
  {
   "cell_type": "markdown",
   "id": "8aa6bfe3-1785-4563-bed2-f8850c496c4c",
   "metadata": {},
   "source": [
    "# Question 3\n",
    "https://www.flipkart.com/"
   ]
  },
  {
   "cell_type": "code",
   "execution_count": 19,
   "id": "cda843da-141d-4eda-849b-9c55a2b4cbaa",
   "metadata": {},
   "outputs": [],
   "source": [
    "driver = webdriver.Chrome()\n",
    "driver.get('https://www.flipkart.com/')"
   ]
  },
  {
   "cell_type": "code",
   "execution_count": 20,
   "id": "79653c06-1ae6-4a16-97b3-2c22cfc07bdd",
   "metadata": {},
   "outputs": [],
   "source": [
    "designation =driver.find_element(By.XPATH, '//div[@class=\"_2SmNnR\"]//input')\n",
    "designation.send_keys('Sunglasses')"
   ]
  },
  {
   "cell_type": "code",
   "execution_count": 21,
   "id": "ba07706c-2d9d-4d15-ab81-ddf3ed1abe59",
   "metadata": {},
   "outputs": [],
   "source": [
    "search = driver.find_element(By.CLASS_NAME, \"_2iLD__\")\n",
    "search.click()"
   ]
  },
  {
   "cell_type": "markdown",
   "id": "f8a2dd31-78e2-4c1d-963c-eb29712b8936",
   "metadata": {},
   "source": [
    "#### Pagination"
   ]
  },
  {
   "cell_type": "code",
   "execution_count": null,
   "id": "9e79c1e3-3026-4666-9f2a-8cc1df01a0bb",
   "metadata": {},
   "outputs": [],
   "source": [
    "# pagination = driver.find_element(By.XPATH, \"//div[contains(@class, '_2MImiq')]\")\n",
    "# pages = pagination.find_elements(By.TAG_NAME, 'a' )\n",
    "# last_page = int(pages[9].text)"
   ]
  },
  {
   "cell_type": "code",
   "execution_count": 23,
   "id": "146be911-c558-4762-b2d3-541acbbd1798",
   "metadata": {},
   "outputs": [],
   "source": [
    "brands = []\n",
    "counter = 0\n",
    "start = 0\n",
    "end = 3\n",
    "for page in range(start,end):\n",
    "    if counter == 100:\n",
    "        break\n",
    "    brand = driver.find_elements(By.XPATH, '//div[contains(@class, \"_2WkVRV\")]')\n",
    "    for b in brand:\n",
    "        brands.append(b.text)\n",
    "    next_button = driver.find_element(By.XPATH, '/html/body/div/div/div[3]/div[1]/div[2]/div[12]/div/div/nav/a[11]')\n",
    "    next_button.click()\n",
    "    time.sleep(5)"
   ]
  },
  {
   "cell_type": "code",
   "execution_count": 24,
   "id": "44e2a4c1-1ab8-4bc5-b237-d6d87afb7072",
   "metadata": {},
   "outputs": [],
   "source": [
    "product_description = []\n",
    "counter = 0\n",
    "start = 0\n",
    "end = 3\n",
    "for page in range(start,end):\n",
    "    if counter == 100:\n",
    "        break\n",
    "    pr_des = driver.find_elements(By.XPATH, '//a[contains(@class, \"IRpwTa\")]')\n",
    "    for p in pr_des:\n",
    "        product_description.append(p.text)\n",
    " \n",
    "    next_button = driver.find_element(By.XPATH, '/html/body/div/div/div[3]/div[1]/div[2]/div[12]/div/div/nav/a[11]')\n",
    "    next_button.click()\n",
    "    time.sleep(5)"
   ]
  },
  {
   "cell_type": "code",
   "execution_count": 27,
   "id": "818677f0-5da6-4fc9-a03c-59936aee1f39",
   "metadata": {},
   "outputs": [],
   "source": [
    "prices = []\n",
    "counter = 0\n",
    "start = 0\n",
    "end = 3\n",
    "for page in range(start,end):\n",
    "    if counter == 100:\n",
    "        break\n",
    "    price = driver.find_elements(By.XPATH, '//div[@class=\"_25b18c\"]/div[position()=1]')\n",
    "    for pri in price:\n",
    "        prices.append(pri.text)\n",
    "    next_button = driver.find_element(By.XPATH, '//*[@id=\"container\"]/div/div[3]/div[1]/div[2]/div[12]/div/div/nav/a[12]')\n",
    "    next_button.click()\n",
    "    time.sleep(5)"
   ]
  },
  {
   "cell_type": "markdown",
   "id": "e5dc23ab-7d22-464a-aa2f-ff5349e6ffac",
   "metadata": {},
   "source": [
    "### dataframe"
   ]
  },
  {
   "cell_type": "code",
   "execution_count": 31,
   "id": "a000b3e3-c84c-48e3-b5d4-83a4ceed2c7d",
   "metadata": {},
   "outputs": [
    {
     "data": {
      "text/html": [
       "<div>\n",
       "<style scoped>\n",
       "    .dataframe tbody tr th:only-of-type {\n",
       "        vertical-align: middle;\n",
       "    }\n",
       "\n",
       "    .dataframe tbody tr th {\n",
       "        vertical-align: top;\n",
       "    }\n",
       "\n",
       "    .dataframe thead th {\n",
       "        text-align: right;\n",
       "    }\n",
       "</style>\n",
       "<table border=\"1\" class=\"dataframe\">\n",
       "  <thead>\n",
       "    <tr style=\"text-align: right;\">\n",
       "      <th></th>\n",
       "      <th>Brand</th>\n",
       "      <th>description</th>\n",
       "    </tr>\n",
       "  </thead>\n",
       "  <tbody>\n",
       "    <tr>\n",
       "      <th>0</th>\n",
       "      <td>AISLIN</td>\n",
       "      <td>Polarized Rectangular Sunglasses (60)</td>\n",
       "    </tr>\n",
       "    <tr>\n",
       "      <th>1</th>\n",
       "      <td>AISLIN</td>\n",
       "      <td>UV Protection Retro Square Sunglasses (46)</td>\n",
       "    </tr>\n",
       "    <tr>\n",
       "      <th>2</th>\n",
       "      <td>VINCENT CHASE</td>\n",
       "      <td>Polarized, UV Protection, Mirrored Sports, Wra...</td>\n",
       "    </tr>\n",
       "    <tr>\n",
       "      <th>3</th>\n",
       "      <td>NuVew</td>\n",
       "      <td>Polarized, UV Protection Wayfarer Sunglasses (54)</td>\n",
       "    </tr>\n",
       "    <tr>\n",
       "      <th>4</th>\n",
       "      <td>PIRASO</td>\n",
       "      <td>UV Protection, Gradient Over-sized Sunglasses ...</td>\n",
       "    </tr>\n",
       "    <tr>\n",
       "      <th>...</th>\n",
       "      <td>...</td>\n",
       "      <td>...</td>\n",
       "    </tr>\n",
       "    <tr>\n",
       "      <th>115</th>\n",
       "      <td>NuVew</td>\n",
       "      <td>UV Protection, Gradient Butterfly, Shield Sung...</td>\n",
       "    </tr>\n",
       "    <tr>\n",
       "      <th>116</th>\n",
       "      <td>IRUS</td>\n",
       "      <td>Polarized, UV Protection Aviator Sunglasses (F...</td>\n",
       "    </tr>\n",
       "    <tr>\n",
       "      <th>117</th>\n",
       "      <td>john jacobs</td>\n",
       "      <td>Gradient Cat-eye Sunglasses (54)</td>\n",
       "    </tr>\n",
       "    <tr>\n",
       "      <th>118</th>\n",
       "      <td>VINCENT CHASE</td>\n",
       "      <td>UV Protection, Gradient Butterfly, Retro Squar...</td>\n",
       "    </tr>\n",
       "    <tr>\n",
       "      <th>119</th>\n",
       "      <td>IDEE</td>\n",
       "      <td>Polarized, UV Protection Oval Sunglasses (64)</td>\n",
       "    </tr>\n",
       "  </tbody>\n",
       "</table>\n",
       "<p>120 rows × 2 columns</p>\n",
       "</div>"
      ],
      "text/plain": [
       "             Brand                                        description\n",
       "0           AISLIN              Polarized Rectangular Sunglasses (60)\n",
       "1           AISLIN         UV Protection Retro Square Sunglasses (46)\n",
       "2    VINCENT CHASE  Polarized, UV Protection, Mirrored Sports, Wra...\n",
       "3            NuVew  Polarized, UV Protection Wayfarer Sunglasses (54)\n",
       "4           PIRASO  UV Protection, Gradient Over-sized Sunglasses ...\n",
       "..             ...                                                ...\n",
       "115          NuVew  UV Protection, Gradient Butterfly, Shield Sung...\n",
       "116           IRUS  Polarized, UV Protection Aviator Sunglasses (F...\n",
       "117    john jacobs                   Gradient Cat-eye Sunglasses (54)\n",
       "118  VINCENT CHASE  UV Protection, Gradient Butterfly, Retro Squar...\n",
       "119           IDEE      Polarized, UV Protection Oval Sunglasses (64)\n",
       "\n",
       "[120 rows x 2 columns]"
      ]
     },
     "execution_count": 31,
     "metadata": {},
     "output_type": "execute_result"
    }
   ],
   "source": [
    "df = pd.DataFrame({'Brand': brands, 'description':product_description})\n",
    "df"
   ]
  },
  {
   "cell_type": "code",
   "execution_count": null,
   "id": "7a6aa4a1-74a3-4aee-9e00-553de5b0a7a3",
   "metadata": {},
   "outputs": [],
   "source": []
  }
 ],
 "metadata": {
  "kernelspec": {
   "display_name": "Python 3 (ipykernel)",
   "language": "python",
   "name": "python3"
  },
  "language_info": {
   "codemirror_mode": {
    "name": "ipython",
    "version": 3
   },
   "file_extension": ".py",
   "mimetype": "text/x-python",
   "name": "python",
   "nbconvert_exporter": "python",
   "pygments_lexer": "ipython3",
   "version": "3.11.5"
  }
 },
 "nbformat": 4,
 "nbformat_minor": 5
}
